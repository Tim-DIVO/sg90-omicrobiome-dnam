{
 "cells": [
  {
   "cell_type": "code",
   "execution_count": 4,
   "id": "587d9e68-fc7c-460f-82e9-11fbd53479fc",
   "metadata": {},
   "outputs": [],
   "source": [
    "from Bio import Phylo\n",
    "import numpy as np\n",
    "import pandas as pd\n",
    "\n",
    "# Load the phylogenetic tree from a Newick file\n",
    "tree = Phylo.read('../../BetaDiversity/Phylogeny_ASV_based/phylo_rpca_results/labeled-phylogeny.nwk', 'newick')\n",
    "\n",
    "# Load your BIOM or feature table in CSV/TSV format (samples as rows, taxa as columns)\n",
    "feature_table = pd.read_csv('../../cleaned_asv_reads.csv')  # Adjust file path and format as needed\n",
    "\n"
   ]
  },
  {
   "cell_type": "code",
   "execution_count": 6,
   "id": "dbfbf7c1-d7de-4147-9df3-ed06ab0d2b9a",
   "metadata": {},
   "outputs": [],
   "source": [
    "# Extract the taxa names from the tree (the leaf names)\n",
    "taxa_in_tree = [clade.name for clade in tree.get_terminals()]\n",
    "\n",
    "# Now, make sure the taxa in your feature table align with those in the tree\n",
    "common_taxa = feature_table.columns.intersection(taxa_in_tree)\n",
    "\n",
    "# Filter the feature table to include only the common taxa that are in the tree\n",
    "feature_table = feature_table[common_taxa]\n"
   ]
  },
  {
   "cell_type": "code",
   "execution_count": null,
   "id": "588d918e-fe50-41e3-b25b-71e695b03e49",
   "metadata": {},
   "outputs": [],
   "source": [
    "def calculate_faith_pd_for_sample(sample, tree, taxa):\n",
    "    \"\"\"\n",
    "    Calculate Faith's PD for a single sample.\n",
    "    \"\"\"\n",
    "    # Get the observed taxa for this sample (taxa with abundance > 0)\n",
    "    observed_taxa = sample[sample > 0].index  # Filter taxa with abundance > 0\n",
    "\n",
    "    # Sum the branch lengths for observed taxa in the tree\n",
    "    pd = 0\n",
    "    for taxon in observed_taxa:\n",
    "        clade = tree.find_any(name=taxon)\n",
    "        if clade is not None:\n",
    "            pd += clade.branch_length  # Sum the branch lengths for the observed taxa\n",
    "    \n",
    "    return pd\n",
    "\n",
    "# Initialize a dictionary to hold Faith's PD values for each sample\n",
    "faith_pd_values = {}\n",
    "\n",
    "# Calculate Faith's PD for each sample\n",
    "for sample_name in feature_table.index:\n",
    "    sample = feature_table.loc[sample_name]\n",
    "    faith_pd = calculate_faith_pd_for_sample(sample, tree, feature_table)\n",
    "    faith_pd_values[sample_name] = faith_pd\n"
   ]
  },
  {
   "cell_type": "code",
   "execution_count": null,
   "id": "d2a4f9a0-54bd-46e7-ba00-5fc897f7f1dd",
   "metadata": {},
   "outputs": [],
   "source": []
  }
 ],
 "metadata": {
  "kernelspec": {
   "display_name": "Python Qiime2",
   "language": "python",
   "name": "qiime2"
  },
  "language_info": {
   "codemirror_mode": {
    "name": "ipython",
    "version": 3
   },
   "file_extension": ".py",
   "mimetype": "text/x-python",
   "name": "python",
   "nbconvert_exporter": "python",
   "pygments_lexer": "ipython3",
   "version": "3.8.15"
  }
 },
 "nbformat": 4,
 "nbformat_minor": 5
}
