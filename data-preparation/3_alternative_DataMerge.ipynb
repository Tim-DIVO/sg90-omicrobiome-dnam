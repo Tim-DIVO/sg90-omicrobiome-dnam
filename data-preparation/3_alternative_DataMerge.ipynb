{
 "cells": [
  {
   "cell_type": "code",
   "execution_count": 35,
   "id": "7aaaee05-5816-4612-b6cb-edeed8c8ba2a",
   "metadata": {
    "tags": []
   },
   "outputs": [],
   "source": [
    "import pandas as pd\n",
    "import numpy as np"
   ]
  },
  {
   "cell_type": "code",
   "execution_count": 36,
   "id": "bbc23b8a-b482-4bff-9ec8-3ce50a8303c7",
   "metadata": {
    "tags": []
   },
   "outputs": [],
   "source": [
    "SG90 = pd.read_excel(\"SG90_TimWehnes_26082024.xlsx\")\n",
    "epigenetic_processed = pd.read_csv(\"Epigenetic_Processed.csv\")\n",
    "genus_clr = pd.read_csv(\"Genus_CLR.csv\")\n",
    "genus_raw = pd.read_csv(\"Genus_Raw.csv\")"
   ]
  },
  {
   "cell_type": "code",
   "execution_count": 37,
   "id": "950acb56-b7c9-48ac-907a-d7d295164aec",
   "metadata": {
    "tags": []
   },
   "outputs": [],
   "source": [
    "genus_clr[\"Sample_ID\"] = genus_clr[\"Sample_ID\"].astype(str).replace(r'^[A-Za-z]_', '', regex=True)\n",
    "epigenetic_processed['Sample_ID'] = epigenetic_processed['Sample_ID'].astype(str)\n",
    "\n",
    "#merge on overlapping samples, sample 80004 has had blood taken twice\n",
    "df = pd.merge(genus_clr, epigenetic_processed, on='Sample_ID', suffixes=('', '_epigenetic'))"
   ]
  },
  {
   "cell_type": "code",
   "execution_count": 38,
   "id": "499985a8-6ed4-45c5-a058-118b6266acc6",
   "metadata": {
    "tags": []
   },
   "outputs": [],
   "source": [
    "# Convert Sample_ID, subno, and alt_ID to strings for comparison\n",
    "ids = df[\"Sample_ID\"].astype(str)\n",
    "SG90[\"subno\"] = SG90[\"subno\"].astype(str)\n",
    "SG90[\"alt_ID\"] = SG90[\"alt_ID\"].dropna().astype(int).astype(str)\n",
    "\n",
    "# Identify rows in SG90 where either subno or alt_ID matches Sample_ID in df\n",
    "matching_rows = SG90[(SG90[\"subno\"].isin(ids)) | (SG90[\"alt_ID\"].isin(ids))].copy()\n",
    "\n",
    "# Create a new 'Sample_ID' column in result_df\n",
    "matching_rows[\"Sample_ID\"] = matching_rows.apply(\n",
    "    lambda row: row[\"subno\"] if row[\"subno\"] in ids.values else row[\"alt_ID\"],\n",
    "    axis=1\n",
    ")\n",
    "\n",
    "# Select specific columns by name\n",
    "specific_columns = matching_rows[\n",
    "    [ \n",
    "        'demogr_sex',\n",
    "        'demogr_race',\n",
    "        \"ansur_frax_bmi\",\n",
    "        \"subs_use_smoke_consolidated\",\n",
    "        \"others_Blood_collection_date\", \n",
    "        \"others_Saliva_collection_date\",\n",
    "    ]\n",
    "]\n",
    "\n",
    "# Concatenate all the selected columns\n",
    "result_df = pd.concat([matching_rows[[\"Sample_ID\"]], specific_columns], axis=1)\n",
    "# Merge into final df\n",
    "merged_df = pd.merge(df, result_df, on=\"Sample_ID\", how=\"left\")\n",
    "#merged_df"
   ]
  },
  {
   "cell_type": "code",
   "execution_count": 39,
   "id": "5a4df822-b1db-4c32-afb7-c892f325fec6",
   "metadata": {
    "tags": []
   },
   "outputs": [],
   "source": [
    "# Identify duplicate Sample_ID values in merged_df\n",
    "duplicate_sample_ids = merged_df[merged_df.duplicated('Sample_ID', keep=False)]\n",
    "\n",
    "#rows 0,1,3,7 removed bc of likely wrong collection date - not possible that it has been collected twice since measurements are identical\n",
    "merged_df = merged_df.drop([0, 1, 3, 7])\n",
    "merged_df = merged_df.reset_index(drop=True)\n",
    "\n",
    "# Check if blood and saliva have equal dates\n",
    "# Identify rows where the dates are not equal in merged_df\n",
    "unequal_dates_rows = merged_df[merged_df['others_Blood_collection_date'] != merged_df['others_Saliva_collection_date']]\n",
    "\n",
    "# remove the 7rows where the dates are not equal\n",
    "merged_df = merged_df.drop(unequal_dates_rows.index)\n",
    "merged_df = merged_df.reset_index(drop=True)\n",
    "\n",
    "df = merged_df.drop(columns=[\"Date_of_blood_collection\", \"others_Saliva_collection_date\", \"others_Blood_collection_date\"])"
   ]
  },
  {
   "cell_type": "code",
   "execution_count": 40,
   "id": "97a21167-6a3b-45c5-861b-5bb18daf993f",
   "metadata": {
    "tags": []
   },
   "outputs": [],
   "source": [
    "#use median imputation for BMI and Smoking\n",
    "\n",
    "# Calculate Q1 (25th percentile) and Q3 (75th percentile)\n",
    "Q1 = df['ansur_frax_bmi'].quantile(0.25)\n",
    "Q3 = df['ansur_frax_bmi'].quantile(0.75)\n",
    "\n",
    "# Calculate IQR\n",
    "IQR = Q3 - Q1\n",
    "\n",
    "# Define lower and upper bounds for outliers\n",
    "lower_bound = Q1 - (100 * IQR)\n",
    "upper_bound = Q3 + (100 * IQR)\n",
    "\n",
    "# Find outliers: rows where 'ansur_frax_bmi' is either below the lower bound or above the upper bound\n",
    "outliers = (df['ansur_frax_bmi'] < lower_bound) | (df['ansur_frax_bmi'] > upper_bound)\n",
    "\n",
    "# Compute the median of the column\n",
    "median_value = df['ansur_frax_bmi'].median()\n",
    "\n",
    "# Replace outliers with the median\n",
    "df.loc[outliers, 'ansur_frax_bmi'] = median_value\n",
    "\n",
    "# Replace NaN values with the median as well\n",
    "df['ansur_frax_bmi'].fillna(median_value, inplace=True)\n",
    "\n",
    "median_value = df['subs_use_smoke_consolidated'].median()\n",
    "# Fill NA values with the median\n",
    "df['subs_use_smoke_consolidated'].fillna(median_value, inplace=True)"
   ]
  },
  {
   "cell_type": "code",
   "execution_count": 41,
   "id": "43e7e8ae-a3b4-4184-82f9-6cc649498213",
   "metadata": {
    "tags": []
   },
   "outputs": [],
   "source": [
    "df.to_csv(\"Table1_Input.csv\", index = False)"
   ]
  },
  {
   "cell_type": "code",
   "execution_count": 42,
   "id": "eb4f7a8c-adca-41d6-9b06-dd37f40e6e15",
   "metadata": {
    "tags": []
   },
   "outputs": [],
   "source": [
    "#same for the raw genus data\n",
    "genus_raw[\"Sample_ID\"] = genus_raw[\"Sample_ID\"].astype(str).replace(r'^[A-Za-z]_', '', regex=True)\n",
    "epigenetic_processed['Sample_ID'] = epigenetic_processed['Sample_ID'].astype(str)\n",
    "\n",
    "#merge on overlapping samples, sample 80004 has had blood taken twice\n",
    "df = pd.merge(genus_raw, epigenetic_processed, on='Sample_ID', suffixes=('', '_epigenetic'))\n",
    "\n",
    "# Convert Sample_ID, subno, and alt_ID to strings for comparison\n",
    "ids = df[\"Sample_ID\"].astype(str)\n",
    "SG90[\"subno\"] = SG90[\"subno\"].astype(str)\n",
    "SG90[\"alt_ID\"] = SG90[\"alt_ID\"].dropna().astype(int).astype(str)\n",
    "\n",
    "# Identify rows in SG90 where either subno or alt_ID matches Sample_ID in df\n",
    "matching_rows = SG90[(SG90[\"subno\"].isin(ids)) | (SG90[\"alt_ID\"].isin(ids))].copy()\n",
    "\n",
    "# Create a new 'Sample_ID' column in result_df\n",
    "matching_rows[\"Sample_ID\"] = matching_rows.apply(\n",
    "    lambda row: row[\"subno\"] if row[\"subno\"] in ids.values else row[\"alt_ID\"],\n",
    "    axis=1\n",
    ")\n",
    "\n",
    "# Select specific columns by name\n",
    "specific_columns = matching_rows[\n",
    "    [ \n",
    "        'demogr_sex',\n",
    "        'demogr_race',\n",
    "        \"ansur_frax_bmi\",\n",
    "        \"subs_use_smoke_consolidated\",\n",
    "        \"others_Blood_collection_date\", \n",
    "        \"others_Saliva_collection_date\",\n",
    "    ]\n",
    "]\n",
    "\n",
    "# Concatenate all the selected columns\n",
    "result_df = pd.concat([matching_rows[[\"Sample_ID\"]], specific_columns], axis=1)\n",
    "# Merge into final df\n",
    "merged_df = pd.merge(df, result_df, on=\"Sample_ID\", how=\"left\")\n",
    "#merged_df\n",
    "\n",
    "# Identify duplicate Sample_ID values in merged_df\n",
    "duplicate_sample_ids = merged_df[merged_df.duplicated('Sample_ID', keep=False)]\n",
    "\n",
    "#rows 0,1,3,7 removed bc of likely wrong collection date - not possible that it has been collected twice since measurements are identical\n",
    "merged_df = merged_df.drop([0, 1, 3, 7])\n",
    "merged_df = merged_df.reset_index(drop=True)\n",
    "\n",
    "# Check if blood and saliva have equal dates\n",
    "# Identify rows where the dates are not equal in merged_df\n",
    "unequal_dates_rows = merged_df[merged_df['others_Blood_collection_date'] != merged_df['others_Saliva_collection_date']]\n",
    "\n",
    "# remove the 7rows where the dates are not equal\n",
    "merged_df = merged_df.drop(unequal_dates_rows.index)\n",
    "merged_df = merged_df.reset_index(drop=True)\n",
    "\n",
    "df = merged_df.drop(columns=[\"Date_of_blood_collection\", \"others_Saliva_collection_date\", \"others_Blood_collection_date\"])\n",
    "\n",
    "#use median imputation for BMI and Smoking\n",
    "\n",
    "# Calculate Q1 (25th percentile) and Q3 (75th percentile)\n",
    "Q1 = df['ansur_frax_bmi'].quantile(0.25)\n",
    "Q3 = df['ansur_frax_bmi'].quantile(0.75)\n",
    "\n",
    "# Calculate IQR\n",
    "IQR = Q3 - Q1\n",
    "\n",
    "# Define lower and upper bounds for outliers\n",
    "lower_bound = Q1 - (100 * IQR)\n",
    "upper_bound = Q3 + (100 * IQR)\n",
    "\n",
    "# Find outliers: rows where 'ansur_frax_bmi' is either below the lower bound or above the upper bound\n",
    "outliers = (df['ansur_frax_bmi'] < lower_bound) | (df['ansur_frax_bmi'] > upper_bound)\n",
    "\n",
    "# Compute the median of the column\n",
    "median_value = df['ansur_frax_bmi'].median()\n",
    "\n",
    "# Replace outliers with the median\n",
    "df.loc[outliers, 'ansur_frax_bmi'] = median_value\n",
    "\n",
    "# Replace NaN values with the median as well\n",
    "df['ansur_frax_bmi'].fillna(median_value, inplace=True)\n",
    "\n",
    "median_value = df['subs_use_smoke_consolidated'].median()\n",
    "# Fill NA values with the median\n",
    "df['subs_use_smoke_consolidated'].fillna(median_value, inplace=True)\n",
    "\n",
    "df.rename(columns={\n",
    "    'Age_at_blood_collection': 'Age', \n",
    "    'demogr_sex': 'Sex',\n",
    "    'demogr_race': \"Race\",\n",
    "    \"ansur_frax_bmi\": \"BMI\",\n",
    "    \"subs_use_smoke_consolidated\": \"Smoking\",\n",
    "    \n",
    "}, inplace=True)\n",
    "\n",
    "# Define your updated columns and group definition\n",
    "df['Group'] = df['Epigenetic_deviation'].apply(lambda x: 'Worse' if x >= np.median(df[\"Epigenetic_deviation\"]) else 'Better')\n",
    "\n",
    "# List of columns to remove\n",
    "to_remove = [\n",
    "    'Epigenetic_average'\n",
    "]\n",
    "\n",
    "# Remove the specified columns from the DataFrame\n",
    "df = df.drop(columns=to_remove)\n",
    "\n",
    "df_encoded = pd.get_dummies(df, columns=['Race', 'Sex', 'Smoking'], drop_first=False)  # One-hot encode categorical variables\n",
    "# Replace True with 1 and False with 0 in the entire DataFrame\n",
    "df = df_encoded.replace({True: 1, False: 0})\n",
    "df\n",
    "\n",
    "df.to_csv(\"FINAL_GENUS_TAXA_RAW.csv\", index=False)"
   ]
  },
  {
   "cell_type": "code",
   "execution_count": null,
   "id": "dcab13f4-8217-4a36-a370-7717e4c14f0e",
   "metadata": {},
   "outputs": [],
   "source": []
  }
 ],
 "metadata": {
  "kernelspec": {
   "display_name": "Python 3 (ipykernel)",
   "language": "python",
   "name": "python3"
  },
  "language_info": {
   "codemirror_mode": {
    "name": "ipython",
    "version": 3
   },
   "file_extension": ".py",
   "mimetype": "text/x-python",
   "name": "python",
   "nbconvert_exporter": "python",
   "pygments_lexer": "ipython3",
   "version": "3.12.4"
  }
 },
 "nbformat": 4,
 "nbformat_minor": 5
}
