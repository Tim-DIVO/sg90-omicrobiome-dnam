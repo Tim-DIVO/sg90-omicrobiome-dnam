{
 "cells": [
  {
   "cell_type": "markdown",
   "id": "168db26b-d41f-4613-801b-9eb1640de635",
   "metadata": {},
   "source": [
    "3 Reasons for this notebook:\n",
    "\n",
    "1. Get ASV Table with non-occuring ASV's filtered out.\n",
    "\n",
    "2. Get ASV Table with non-occuring ASV's filtered out & excluded samples below rarefaction depth for use in Alpha/Beta Diversity notebooks.\n",
    "\n",
    "3. Get ASV Table with non-occuring ASV's filtered out & rarefaction (n=1000) done. Ready for use for in-terminal Phylogenetic RPCA"
   ]
  },
  {
   "cell_type": "code",
   "execution_count": 1,
   "id": "a914da4f-6d6f-43c5-8934-4f8b9bde7d95",
   "metadata": {},
   "outputs": [],
   "source": [
    "import pandas as pd\n",
    "import numpy as np"
   ]
  },
  {
   "cell_type": "code",
   "execution_count": 4,
   "id": "096306d3-a57d-4082-b976-7d40accc4234",
   "metadata": {},
   "outputs": [],
   "source": [
    "df = pd.read_csv(\"FINAL_UNASSIGNED_RAW.csv\")"
   ]
  },
  {
   "cell_type": "code",
   "execution_count": 5,
   "id": "e688cf03-3f38-4f7f-badd-7972ba5cf9cc",
   "metadata": {},
   "outputs": [],
   "source": [
    "reads_asv = df.iloc[:,1:-13]"
   ]
  },
  {
   "cell_type": "code",
   "execution_count": 6,
   "id": "c5e4b1b7-313f-42ea-8087-a99f36f31e84",
   "metadata": {},
   "outputs": [
    {
     "name": "stdout",
     "output_type": "stream",
     "text": [
      "Removed 1765 species that occur in no samples.\n",
      "Original shape of reads_filtered: (311, 13579)\n",
      "Shape after cleaning: (311, 11814)\n"
     ]
    }
   ],
   "source": [
    "#DELETE FEATURES WITH NO OCCURENCES\n",
    "\n",
    "# Step 1: Calculate the number of non-zero occurrences for each feature (species)\n",
    "non_zero_counts = (reads_asv != 0).sum(axis=0)\n",
    "\n",
    "# Step 2: Identify features that occur in no samples\n",
    "no_sample_features = non_zero_counts[non_zero_counts == 0]\n",
    "\n",
    "# Step 3: Drop these features (species) from reads_filtered\n",
    "if len(no_sample_features) > 0:\n",
    "    reads_asv_cleaned = reads_asv.drop(columns=no_sample_features.index)\n",
    "    df_reads_asv_cleaned = df.drop(columns=no_sample_features.index)\n",
    "    print(f\"Removed {len(no_sample_features)} species that occur in no samples.\")\n",
    "else:\n",
    "    reads_filtered_cleaned = reads_filtered\n",
    "    print(\"No species were removed; all species occur in at least one sample.\")\n",
    "\n",
    "# Step 4: Check the shape of the cleaned data\n",
    "print(f\"Original shape of reads_filtered: {reads_asv.shape}\")\n",
    "print(f\"Shape after cleaning: {reads_asv_cleaned.shape}\")\n",
    "\n",
    "reads_asv = reads_asv_cleaned"
   ]
  },
  {
   "cell_type": "code",
   "execution_count": 7,
   "id": "0d168bbf-2705-4c17-b1ad-0ce5de553384",
   "metadata": {},
   "outputs": [],
   "source": [
    "reads_asv.to_csv(\"cleaned_asv_reads.csv\", index = False)\n",
    "df_reads_asv_cleaned.to_csv(\"cleaned_asv_df.csv\", index = False)"
   ]
  },
  {
   "cell_type": "code",
   "execution_count": 8,
   "id": "09d790d3-4a45-4561-8492-56a5e7b1d06f",
   "metadata": {},
   "outputs": [],
   "source": [
    "df = df_reads_asv_cleaned\n",
    "\n",
    "if 'Row_Sum' in df.columns:\n",
    "    df = df.drop(columns=['Row_Sum'])\n",
    "\n",
    "# Compute total reads per sample\n",
    "df['Row_Sum'] = reads_asv.sum(axis=1)\n",
    "\n",
    "# Determine the rarefaction depth (minimum read count above 20,000)\n",
    "depths = df['Row_Sum'][df['Row_Sum'] > 20000]\n",
    "rarefaction_depth = depths.sort_values().iloc[0]\n",
    "\n",
    "# Filter out samples with total reads less than the rarefaction depth\n",
    "filtered_df = df[df['Row_Sum'] >= rarefaction_depth].copy().reset_index(drop=True)\n",
    "reads_asv_filtered = filtered_df.iloc[:, 1:-14]"
   ]
  },
  {
   "cell_type": "code",
   "execution_count": 9,
   "id": "f74d6e65-86b1-472b-83ac-2a008a9f2e68",
   "metadata": {},
   "outputs": [],
   "source": [
    "filtered_df.to_csv(\"cleaned_filtered_asv_df.csv\", index = False)\n",
    "reads_asv_filtered.to_csv(\"cleaned_filtered_asv_reads.csv\", index = False)"
   ]
  },
  {
   "cell_type": "code",
   "execution_count": null,
   "id": "c6812ce0-36b5-4e3f-a8a1-758330590b6e",
   "metadata": {},
   "outputs": [],
   "source": [
    "# Function to perform rarefaction (subsampling) on a row (sample)\n",
    "def rarefy_row(row, rarefaction_depth):\n",
    "    \"\"\"Rarefy a row by subsampling reads up to rarefaction_depth.\"\"\"\n",
    "    total_reads = row.sum()\n",
    "    \n",
    "    if total_reads < rarefaction_depth:\n",
    "        return row  # If total reads are less than the rarefaction depth, return the original row\n",
    "    else:\n",
    "        proportions = row / total_reads\n",
    "        rarefied = np.random.multinomial(rarefaction_depth, proportions)\n",
    "        return rarefied\n",
    "\n",
    "\n",
    "# Initialize the average matrix with zeros, the same shape as the input data\n",
    "average_matrix = np.zeros((reads_asv_filtered.shape[0], reads_asv_filtered.shape[1]))\n",
    "\n",
    "#how many times to rarefy\n",
    "num_iterations = 1000\n",
    "\n",
    "# Perform rarefaction multiple times and accumulate the results\n",
    "for _ in range(num_iterations):\n",
    "    rarefied_matrix = pd.DataFrame([rarefy_row(row, rarefaction_depth) for _, row in reads_asv_filtered.iterrows()], \n",
    "                                   columns=reads_asv_filtered.columns)\n",
    "    average_matrix += rarefied_matrix.values\n",
    "\n",
    "# Calculate the average matrix by dividing the accumulated matrix by the number of iterations\n",
    "average_matrix /= num_iterations\n",
    "\n",
    "# Convert back to DataFrame if needed\n",
    "average_rarefied_df = pd.DataFrame(average_matrix, columns=reads_asv_filtered.columns, index=reads_asv_filtered.index)\n",
    "\n",
    "# Optionally, display or save the averaged matrix\n",
    "average_rarefied_df"
   ]
  },
  {
   "cell_type": "code",
   "execution_count": null,
   "id": "3801fc05-0a57-42b6-adfc-0839a4f4801c",
   "metadata": {},
   "outputs": [],
   "source": [
    "average_rarefied_df"
   ]
  },
  {
   "cell_type": "code",
   "execution_count": null,
   "id": "a8bfde7a-bdcf-4e33-a5ff-bdd3365af2c2",
   "metadata": {},
   "outputs": [],
   "source": []
  }
 ],
 "metadata": {
  "kernelspec": {
   "display_name": "Python SG90",
   "language": "python",
   "name": "sg90"
  },
  "language_info": {
   "codemirror_mode": {
    "name": "ipython",
    "version": 3
   },
   "file_extension": ".py",
   "mimetype": "text/x-python",
   "name": "python",
   "nbconvert_exporter": "python",
   "pygments_lexer": "ipython3",
   "version": "3.9.19"
  }
 },
 "nbformat": 4,
 "nbformat_minor": 5
}
