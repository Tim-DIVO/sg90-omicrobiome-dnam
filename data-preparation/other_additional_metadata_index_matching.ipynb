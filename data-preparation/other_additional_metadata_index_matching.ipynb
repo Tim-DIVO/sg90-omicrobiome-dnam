{
 "cells": [
  {
   "cell_type": "code",
   "execution_count": 49,
   "metadata": {},
   "outputs": [],
   "source": [
    "import pandas as pd\n",
    "import numpy as np\n",
    "import matplotlib.pyplot as plt"
   ]
  },
  {
   "cell_type": "code",
   "execution_count": 32,
   "metadata": {},
   "outputs": [],
   "source": [
    "sg90 = pd.read_excel(\"SG90_TimWehnes_26082024.xlsx\")\n",
    "df = pd.read_csv(\"FINAL_SPECIES_RAW.csv\")"
   ]
  },
  {
   "cell_type": "code",
   "execution_count": 33,
   "metadata": {},
   "outputs": [],
   "source": [
    "physicals = [column for column in sg90.columns if column.startswith(\"phy\")]"
   ]
  },
  {
   "cell_type": "code",
   "execution_count": 34,
   "metadata": {},
   "outputs": [],
   "source": [
    "hsl = [column for column in sg90[physicals] if column.startswith(\"phy_perf_hsl\")]\n",
    "hsr = [column for column in sg90[physicals] if column.startswith(\"phy_perf_hsr\")]\n",
    "for ind, row in sg90[physicals].iterrows():\n",
    "    if row['phy_perf_hand'] == 1.0:\n",
    "        row[hsr] = np.nan\n",
    "    else:\n",
    "        row[hsl] = np.nan\n",
    "\n",
    "sg90[\"gripstrength\"] = sg90[hsl + hsr].median(axis=1)"
   ]
  },
  {
   "cell_type": "code",
   "execution_count": 35,
   "metadata": {},
   "outputs": [
    {
     "data": {
      "text/plain": [
       "0         NaN\n",
       "1       16.25\n",
       "2       25.25\n",
       "3       17.25\n",
       "4       14.80\n",
       "        ...  \n",
       "1153    11.00\n",
       "1154    21.00\n",
       "1155    13.50\n",
       "1156      NaN\n",
       "1157      NaN\n",
       "Name: gripstrength, Length: 1158, dtype: float64"
      ]
     },
     "execution_count": 35,
     "metadata": {},
     "output_type": "execute_result"
    }
   ],
   "source": [
    "sg90[\"gripstrength\"]"
   ]
  },
  {
   "cell_type": "code",
   "execution_count": 46,
   "metadata": {},
   "outputs": [
    {
     "data": {
      "text/html": [
       "<div>\n",
       "<style scoped>\n",
       "    .dataframe tbody tr th:only-of-type {\n",
       "        vertical-align: middle;\n",
       "    }\n",
       "\n",
       "    .dataframe tbody tr th {\n",
       "        vertical-align: top;\n",
       "    }\n",
       "\n",
       "    .dataframe thead th {\n",
       "        text-align: right;\n",
       "    }\n",
       "</style>\n",
       "<table border=\"1\" class=\"dataframe\">\n",
       "  <thead>\n",
       "    <tr style=\"text-align: right;\">\n",
       "      <th></th>\n",
       "      <th>Sample_ID</th>\n",
       "      <th>gripstrength</th>\n",
       "    </tr>\n",
       "  </thead>\n",
       "  <tbody>\n",
       "    <tr>\n",
       "      <th>0</th>\n",
       "      <td>90133</td>\n",
       "      <td>14.80</td>\n",
       "    </tr>\n",
       "    <tr>\n",
       "      <th>1</th>\n",
       "      <td>90150</td>\n",
       "      <td>13.85</td>\n",
       "    </tr>\n",
       "    <tr>\n",
       "      <th>2</th>\n",
       "      <td>90189</td>\n",
       "      <td>27.30</td>\n",
       "    </tr>\n",
       "    <tr>\n",
       "      <th>3</th>\n",
       "      <td>2624</td>\n",
       "      <td>18.35</td>\n",
       "    </tr>\n",
       "    <tr>\n",
       "      <th>4</th>\n",
       "      <td>90132</td>\n",
       "      <td>10.00</td>\n",
       "    </tr>\n",
       "    <tr>\n",
       "      <th>...</th>\n",
       "      <td>...</td>\n",
       "      <td>...</td>\n",
       "    </tr>\n",
       "    <tr>\n",
       "      <th>308</th>\n",
       "      <td>90313</td>\n",
       "      <td>11.00</td>\n",
       "    </tr>\n",
       "    <tr>\n",
       "      <th>309</th>\n",
       "      <td>90314</td>\n",
       "      <td>14.00</td>\n",
       "    </tr>\n",
       "    <tr>\n",
       "      <th>310</th>\n",
       "      <td>90317</td>\n",
       "      <td>11.00</td>\n",
       "    </tr>\n",
       "    <tr>\n",
       "      <th>311</th>\n",
       "      <td>90318</td>\n",
       "      <td>21.00</td>\n",
       "    </tr>\n",
       "    <tr>\n",
       "      <th>312</th>\n",
       "      <td>90319</td>\n",
       "      <td>13.50</td>\n",
       "    </tr>\n",
       "  </tbody>\n",
       "</table>\n",
       "<p>311 rows × 2 columns</p>\n",
       "</div>"
      ],
      "text/plain": [
       "    Sample_ID  gripstrength\n",
       "0       90133         14.80\n",
       "1       90150         13.85\n",
       "2       90189         27.30\n",
       "3        2624         18.35\n",
       "4       90132         10.00\n",
       "..        ...           ...\n",
       "308     90313         11.00\n",
       "309     90314         14.00\n",
       "310     90317         11.00\n",
       "311     90318         21.00\n",
       "312     90319         13.50\n",
       "\n",
       "[311 rows x 2 columns]"
      ]
     },
     "execution_count": 46,
     "metadata": {},
     "output_type": "execute_result"
    }
   ],
   "source": [
    "# Ensure all identifiers in sg90 and df are converted to string format\n",
    "sg90[\"subno_str\"] = sg90[\"subno\"].astype(str)\n",
    "sg90[\"f4_no_str\"] = sg90[\"f4_no\"].apply(lambda x: str(int(x)) if pd.notnull(x) else \"\")\n",
    "sg90[\"subno_schs_str\"] = sg90[\"subno_schs\"].astype(str)\n",
    "sg90[\"alt_ID_str\"] = sg90[\"alt_ID\"].apply(lambda x: str(int(x)) if pd.notnull(x) else \"\")\n",
    "\n",
    "# Convert \"Feature_ID\" column in df to string for comparison\n",
    "df[\"Feature_ID_str\"] = df[\"Sample_ID\"].astype(str)\n",
    "\n",
    "# Initialize a list to collect matching rows with the identifier that matched\n",
    "matches = []\n",
    "\n",
    "# Iterate over each row in sg90 to check for matches and track the matching identifier\n",
    "for _, row in sg90.iterrows():\n",
    "    matched_id = None\n",
    "    if row[\"subno_str\"] in df[\"Feature_ID_str\"].values:\n",
    "        matched_id = row[\"subno_str\"]\n",
    "    elif row[\"f4_no_str\"] in df[\"Feature_ID_str\"].values:\n",
    "        matched_id = row[\"f4_no_str\"]\n",
    "    elif row[\"subno_schs_str\"] in df[\"Feature_ID_str\"].values:\n",
    "        matched_id = row[\"subno_schs_str\"]\n",
    "    elif row[\"alt_ID_str\"] in df[\"Feature_ID_str\"].values:\n",
    "        matched_id = row[\"alt_ID_str\"]\n",
    "    \n",
    "    # If a match was found, add the row to the matches list with the matched identifier\n",
    "    if matched_id:\n",
    "        matches.append({\n",
    "            \"Sample_ID\": matched_id,\n",
    "            \"gripstrength\": row[\"gripstrength\"]\n",
    "        })\n",
    "\n",
    "# Convert the list of matches to a DataFrame\n",
    "gripstrength_matching_rows = pd.DataFrame(matches)\n",
    "\n",
    "\n",
    "#seems to be 1 duplicate ID\n",
    "gripstrength_matching_rows = gripstrength_matching_rows.drop_duplicates(subset=\"Sample_ID\")\n",
    "\n",
    "# Display \n",
    "gripstrength_matching_rows\n"
   ]
  },
  {
   "cell_type": "code",
   "execution_count": 50,
   "metadata": {},
   "outputs": [
    {
     "data": {
      "image/png": "[encoded data removed]",
      "text/plain": [
       "<Figure size 1000x600 with 1 Axes>"
      ]
     },
     "metadata": {},
     "output_type": "display_data"
    }
   ],
   "source": [
    "# Plot the distribution of gripstrength values\n",
    "plt.figure(figsize=(10, 6))\n",
    "plt.hist(gripstrength_matching_rows[\"gripstrength\"], bins=15, edgecolor=\"black\")\n",
    "plt.xlabel(\"Grip Strength\")\n",
    "plt.ylabel(\"Frequency\")\n",
    "plt.title(\"Distribution of Grip Strength\")\n",
    "plt.show()"
   ]
  },
  {
   "cell_type": "code",
   "execution_count": 51,
   "metadata": {},
   "outputs": [
    {
     "data": {
      "text/html": [
       "<div>\n",
       "<style scoped>\n",
       "    .dataframe tbody tr th:only-of-type {\n",
       "        vertical-align: middle;\n",
       "    }\n",
       "\n",
       "    .dataframe tbody tr th {\n",
       "        vertical-align: top;\n",
       "    }\n",
       "\n",
       "    .dataframe thead th {\n",
       "        text-align: right;\n",
       "    }\n",
       "</style>\n",
       "<table border=\"1\" class=\"dataframe\">\n",
       "  <thead>\n",
       "    <tr style=\"text-align: right;\">\n",
       "      <th></th>\n",
       "      <th>Sample_ID</th>\n",
       "      <th>gripstrength</th>\n",
       "    </tr>\n",
       "  </thead>\n",
       "  <tbody>\n",
       "    <tr>\n",
       "      <th>42</th>\n",
       "      <td>90173</td>\n",
       "      <td>14.6</td>\n",
       "    </tr>\n",
       "    <tr>\n",
       "      <th>149</th>\n",
       "      <td>53795</td>\n",
       "      <td>14.6</td>\n",
       "    </tr>\n",
       "    <tr>\n",
       "      <th>227</th>\n",
       "      <td>80019</td>\n",
       "      <td>14.6</td>\n",
       "    </tr>\n",
       "  </tbody>\n",
       "</table>\n",
       "</div>"
      ],
      "text/plain": [
       "    Sample_ID  gripstrength\n",
       "42      90173          14.6\n",
       "149     53795          14.6\n",
       "227     80019          14.6"
      ]
     },
     "execution_count": 51,
     "metadata": {},
     "output_type": "execute_result"
    }
   ],
   "source": [
    "# Identify outliers (values above 1000) and replace them with the median of the 'gripstrength' column\n",
    "outlier_condition = gripstrength_matching_rows[\"gripstrength\"] > 1000\n",
    "median_gripstrength = gripstrength_matching_rows[\"gripstrength\"].median()\n",
    "\n",
    "# Apply median imputation for outliers\n",
    "gripstrength_matching_rows.loc[outlier_condition, \"gripstrength\"] = median_gripstrength\n",
    "\n",
    "# Verify the imputation\n",
    "gripstrength_matching_rows[outlier_condition]"
   ]
  },
  {
   "cell_type": "code",
   "execution_count": 52,
   "metadata": {},
   "outputs": [
    {
     "data": {
      "image/png": "[encoded data removed]",
      "text/plain": [
       "<Figure size 1000x600 with 1 Axes>"
      ]
     },
     "metadata": {},
     "output_type": "display_data"
    }
   ],
   "source": [
    "# Plot the distribution of gripstrength values\n",
    "plt.figure(figsize=(10, 6))\n",
    "plt.hist(gripstrength_matching_rows[\"gripstrength\"], bins=15, edgecolor=\"black\")\n",
    "plt.xlabel(\"Grip Strength\")\n",
    "plt.ylabel(\"Frequency\")\n",
    "plt.title(\"Distribution of Grip Strength\")\n",
    "plt.show()"
   ]
  },
  {
   "cell_type": "code",
   "execution_count": 54,
   "metadata": {},
   "outputs": [],
   "source": [
    "gripstrength_matching_rows.to_csv(\"gripstrength.csv\", index = False)"
   ]
  },
  {
   "cell_type": "code",
   "execution_count": null,
   "metadata": {},
   "outputs": [],
   "source": []
  }
 ],
 "metadata": {
  "kernelspec": {
   "display_name": "base",
   "language": "python",
   "name": "python3"
  },
  "language_info": {
   "codemirror_mode": {
    "name": "ipython",
    "version": 3
   },
   "file_extension": ".py",
   "mimetype": "text/x-python",
   "name": "python",
   "nbconvert_exporter": "python",
   "pygments_lexer": "ipython3",
   "version": "3.12.4"
  }
 },
 "nbformat": 4,
 "nbformat_minor": 2
}
