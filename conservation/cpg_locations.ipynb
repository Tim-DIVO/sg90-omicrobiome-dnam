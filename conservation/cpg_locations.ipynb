{
 "cells": [
  {
   "cell_type": "code",
   "execution_count": 1,
   "metadata": {},
   "outputs": [],
   "source": [
    "import pandas as pd"
   ]
  },
  {
   "cell_type": "code",
   "execution_count": 12,
   "metadata": {},
   "outputs": [
    {
     "name": "stderr",
     "output_type": "stream",
     "text": [
      "C:\\Users\\MEDV3721\\AppData\\Local\\Temp\\ipykernel_12760\\1519387477.py:5: DtypeWarning: Columns (2,4,42,47) have mixed types. Specify dtype option on import or set low_memory=False.\n",
      "  df = pd.read_csv(file_path, skiprows=7)  # Adjust skiprows as necessary to start at the correct header row\n"
     ]
    }
   ],
   "source": [
    "file_path = \"infinium-methylationepic-v-1-0-b5-manifest-file.csv\"\n",
    "\n",
    "# Read the file, skipping the metadata rows until the actual data header\n",
    "# We skip rows by locating the start of the data header row\n",
    "df = pd.read_csv(file_path, skiprows=7)  # Adjust skiprows as necessary to start at the correct header row\n"
   ]
  },
  {
   "cell_type": "code",
   "execution_count": 14,
   "metadata": {},
   "outputs": [],
   "source": [
    "# Select only the columns of interest\n",
    "selected_columns = df[['IlmnID' ,'Name', 'CHR_hg38', 'Start_hg38', 'End_hg38', 'Strand_hg38']]\n",
    "\n",
    "# Drop rows with any NaN values in the selected columns\n",
    "selected_columns = selected_columns.dropna()\n",
    "\n",
    "selected_columns.to_csv(\"methylation_coordinates.csv\", index=False)"
   ]
  },
  {
   "cell_type": "code",
   "execution_count": null,
   "metadata": {},
   "outputs": [],
   "source": []
  }
 ],
 "metadata": {
  "kernelspec": {
   "display_name": "base",
   "language": "python",
   "name": "python3"
  },
  "language_info": {
   "codemirror_mode": {
    "name": "ipython",
    "version": 3
   },
   "file_extension": ".py",
   "mimetype": "text/x-python",
   "name": "python",
   "nbconvert_exporter": "python",
   "pygments_lexer": "ipython3",
   "version": "3.12.4"
  }
 },
 "nbformat": 4,
 "nbformat_minor": 2
}
