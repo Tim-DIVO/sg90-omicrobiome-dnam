{
 "cells": [
  {
   "cell_type": "code",
   "execution_count": 5,
   "metadata": {},
   "outputs": [],
   "source": [
    "from PIL import Image\n",
    "\n",
    "metrics = [\"Shannon\", \"Simpson\", \"Chao1\", \"OTU_Richness\", \"Pielou_Evenness\"]\n",
    "variables = [\"mDNA\", \"ChrAge\"]\n",
    "\n",
    "image_files = []\n",
    "\n",
    "for variable in variables:\n",
    "    for metric in metrics:\n",
    "        image_files.append(f\"{variable}/{metric}_alpha_diversity1.png\")\n",
    "\n",
    "\n"
   ]
  },
  {
   "cell_type": "code",
   "execution_count": 6,
   "metadata": {},
   "outputs": [
    {
     "data": {
      "text/plain": [
       "['mDNA/Shannon_alpha_diversity1.png',\n",
       " 'mDNA/Simpson_alpha_diversity1.png',\n",
       " 'mDNA/Chao1_alpha_diversity1.png',\n",
       " 'mDNA/OTU_Richness_alpha_diversity1.png',\n",
       " 'mDNA/Pielou_Evenness_alpha_diversity1.png',\n",
       " 'ChrAge/Shannon_alpha_diversity1.png',\n",
       " 'ChrAge/Simpson_alpha_diversity1.png',\n",
       " 'ChrAge/Chao1_alpha_diversity1.png',\n",
       " 'ChrAge/OTU_Richness_alpha_diversity1.png',\n",
       " 'ChrAge/Pielou_Evenness_alpha_diversity1.png']"
      ]
     },
     "execution_count": 6,
     "metadata": {},
     "output_type": "execute_result"
    }
   ],
   "source": [
    "image_files"
   ]
  },
  {
   "cell_type": "code",
   "execution_count": 10,
   "metadata": {},
   "outputs": [],
   "source": [
    "# Open all images\n",
    "images = [Image.open(img) for img in image_files]\n",
    "\n",
    "# Assuming all images are the same size\n",
    "width, height = images[0].size\n",
    "\n",
    "# Create a blank canvas with the size to fit all images (2 rows, 5 columns)\n",
    "new_width = width * 2\n",
    "new_height = height * 5\n",
    "combined_image = Image.new('RGB', (new_width, new_height), (255, 255, 255))\n",
    "\n",
    "# Paste the images into the new canvas\n",
    "for i, img in enumerate(images):\n",
    "    x = (i % 2) * width  # Position in the row\n",
    "    y = (i // 2) * height  # Position in the column\n",
    "    combined_image.paste(img, (x, y))\n",
    "\n",
    "# Save the combined image\n",
    "combined_image.save(\"combined_figure.png\", dpi=(300, 300))"
   ]
  },
  {
   "cell_type": "code",
   "execution_count": null,
   "metadata": {},
   "outputs": [],
   "source": []
  }
 ],
 "metadata": {
  "kernelspec": {
   "display_name": "base",
   "language": "python",
   "name": "python3"
  },
  "language_info": {
   "codemirror_mode": {
    "name": "ipython",
    "version": 3
   },
   "file_extension": ".py",
   "mimetype": "text/x-python",
   "name": "python",
   "nbconvert_exporter": "python",
   "pygments_lexer": "ipython3",
   "version": "3.12.4"
  }
 },
 "nbformat": 4,
 "nbformat_minor": 2
}
