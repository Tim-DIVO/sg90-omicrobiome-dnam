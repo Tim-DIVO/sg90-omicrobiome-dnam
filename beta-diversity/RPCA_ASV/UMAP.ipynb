{
 "cells": [
  {
   "cell_type": "code",
   "execution_count": 14,
   "id": "09fb417d-33b0-4995-9c0b-3e922c1895da",
   "metadata": {},
   "outputs": [],
   "source": [
    "import pandas as pd\n",
    "import numpy as np\n",
    "import matplotlib.pyplot as plt\n",
    "import skbio.diversity\n",
    "import seaborn as sns\n",
    "from gemelli.rpca import rpca\n",
    "from gemelli.preprocessing import matrix_rclr\n",
    "from gemelli.matrix_completion import MatrixCompletion\n",
    "#from gemelli.factorization import rpca\n",
    "from skbio.diversity import alpha_diversity\n",
    "from skbio.diversity.alpha import shannon, simpson, chao1, observed_otus\n",
    "from scipy.stats import mannwhitneyu\n",
    "from scipy.spatial.distance import pdist, squareform\n",
    "from scipy.cluster.hierarchy import linkage, leaves_list\n",
    "import matplotlib\n",
    "from sklearn.decomposition import PCA"
   ]
  },
  {
   "cell_type": "code",
   "execution_count": 15,
   "id": "e3b7e788-4fb6-481b-bd57-883c72b99f85",
   "metadata": {},
   "outputs": [],
   "source": [
    "df = pd.read_csv(\"../../../cleaned_asv_df.csv\")"
   ]
  },
  {
   "cell_type": "code",
   "execution_count": 16,
   "id": "069bf5fa-5f9e-4802-b5c1-d0ed313bbaf5",
   "metadata": {},
   "outputs": [],
   "source": [
    "#set up reads for RPCA\n",
    "\n",
    "if 'Row_Sum' in df.columns:\n",
    "    df = df.drop(columns=['Row_Sum'])\n",
    "filtered_df = df\n",
    "\n",
    "reads_filtered = df.iloc[:,1:-13]\n",
    "group_labels = filtered_df['Group']"
   ]
  },
  {
   "cell_type": "code",
   "execution_count": 17,
   "id": "ef4d3267-2158-4b39-86c7-84b28cc8feb1",
   "metadata": {},
   "outputs": [
    {
     "name": "stderr",
     "output_type": "stream",
     "text": [
      "/root/anaconda3/envs/SG90/lib/python3.9/site-packages/gemelli/preprocessing.py:425: RuntimeWarning: divide by zero encountered in log\n",
      "  mat = np.log(matrix_closure(mat))\n"
     ]
    }
   ],
   "source": [
    "# DOING ROBUST CLR-TRANSFORM AND MATRIX COMPLETION USING OPTSPACE\n",
    "\n",
    "\n",
    "# Assuming filtered_rclr is a numpy array (result from matrix_rclr)\n",
    "filtered_rclr = matrix_rclr(reads_filtered)\n",
    "\n",
    "# Step 1: Create an instance of MatrixCompletion with desired parameters\n",
    "mc = MatrixCompletion(n_components=3, max_iterations=5, tol=1e-5)\n",
    "\n",
    "# Step 2: Fit the model to the filtered_rclr matrix\n",
    "mc.fit(filtered_rclr)\n",
    "\n",
    "# Step 3: Access the results, e.g., the completed matrix, sample loadings, etc.\n",
    "completed_matrix = pd.DataFrame(mc.solution)\n",
    "pca_sample_scores = mc.sample_weights  # U matrix\n",
    "feature_weights = mc.feature_weights  # V matrix\n",
    "singular_values = mc.s\n",
    "explained_variance = mc.explained_variance_ratio\n",
    "distance_matrix = mc.distance"
   ]
  },
  {
   "cell_type": "code",
   "execution_count": 18,
   "id": "35236178-1e44-4f06-a655-9da43dcd40fc",
   "metadata": {},
   "outputs": [],
   "source": [
    "distance_matrix = pd.DataFrame(distance_matrix)"
   ]
  },
  {
   "cell_type": "code",
   "execution_count": 19,
   "id": "8a220dda-a782-4e0e-bfde-8a4bc4cb5631",
   "metadata": {},
   "outputs": [],
   "source": [
    "distance_matrix.to_csv(\"distance_matrix.csv\", index=False)"
   ]
  },
  {
   "cell_type": "code",
   "execution_count": null,
   "id": "b25aa477-25fe-4d28-8982-fdd0b738fe07",
   "metadata": {},
   "outputs": [],
   "source": []
  }
 ],
 "metadata": {
  "kernelspec": {
   "display_name": "Python SG90",
   "language": "python",
   "name": "sg90"
  },
  "language_info": {
   "codemirror_mode": {
    "name": "ipython",
    "version": 3
   },
   "file_extension": ".py",
   "mimetype": "text/x-python",
   "name": "python",
   "nbconvert_exporter": "python",
   "pygments_lexer": "ipython3",
   "version": "3.9.19"
  }
 },
 "nbformat": 4,
 "nbformat_minor": 5
}
